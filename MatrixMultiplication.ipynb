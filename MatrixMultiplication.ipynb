{
  "nbformat": 4,
  "nbformat_minor": 0,
  "metadata": {
    "colab": {
      "name": "MatrixMultiplication.ipynb",
      "provenance": [],
      "authorship_tag": "ABX9TyMy5aLmg5vzFk+dQ8X0CiMo",
      "include_colab_link": true
    },
    "kernelspec": {
      "name": "python3",
      "display_name": "Python 3"
    },
    "language_info": {
      "name": "python"
    }
  },
  "cells": [
    {
      "cell_type": "markdown",
      "metadata": {
        "id": "view-in-github",
        "colab_type": "text"
      },
      "source": [
        "<a href=\"https://colab.research.google.com/github/AjayKadoula/Mtech_Lab_1/blob/main/MatrixMultiplication.ipynb\" target=\"_parent\"><img src=\"https://colab.research.google.com/assets/colab-badge.svg\" alt=\"Open In Colab\"/></a>"
      ]
    },
    {
      "cell_type": "markdown",
      "metadata": {
        "id": "x3XSZmghK8EI"
      },
      "source": [
        "# **Matrix multiplication**\n",
        "\n",
        "Two matrices can be multiplied only if the number of columns of the first Matrix is equal to the number of rows of the second Matrix.\n",
        "\n",
        "Ex-. If matrix A has order 2x3 and Matrix B has order 2x3, you can observe that\n",
        "\n",
        "number of columns of A = 3\n",
        "\n",
        "number of rows of B = 2\n",
        "\n",
        "Clearly, the above numbers are not equal. So the above matrices A and B cannot be multiplied.\n",
        "\n",
        "Here is another example.\n",
        "\n",
        "If matrix A has order 2x3 and Matrix B has order 3x4, you can observe that\n",
        "\n",
        "number of columns of A = 3\n",
        "\n",
        "number of rows of B = 3\n",
        "\n",
        "Clearly, the above numbers are equal. So the above matrices A and B can be multiplied"
      ]
    },
    {
      "cell_type": "code",
      "metadata": {
        "colab": {
          "base_uri": "https://localhost:8080/"
        },
        "id": "E5v_9FeVK6j7",
        "outputId": "bdfbe586-99a1-440e-8a2c-69814a7e84ae"
      },
      "source": [
        "def getMatrix(name):\n",
        "    matrixCreated = []\n",
        "    i = 0   \n",
        "    while True:\n",
        "        i += 1\n",
        "        row = input('\\nEnter elements in row %s of Matrix %s (separated by commas)\\nOr -1 to exit: ' %(i, name))\n",
        "        if row == '-1':\n",
        "            break\n",
        "        else:\n",
        "            strList = row.split(',')\n",
        "            matrixCreated.append(list(map(int, strList)))\n",
        "    return matrixCreated\n",
        " \n",
        "def getColAsList(matrixToManipulate, col):\n",
        "    myList = []\n",
        "    numOfRows = len(matrixToManipulate)\n",
        "    for i in range(numOfRows):\n",
        "        myList.append(matrixToManipulate[i][col])\n",
        "    return myList\n",
        " \n",
        "def getCell(matrixA, matrixB, r, c):\n",
        "    matrixBCol = getColAsList(matrixB, c)\n",
        "    lenOfList = len(matrixBCol)\n",
        "    productList = [matrixA[r][i]*matrixBCol[i] for i in range(lenOfList)]\n",
        "    return sum(productList)\n",
        "     \n",
        " \n",
        "matrixA = getMatrix('A')\n",
        "matrixB = getMatrix('B')\n",
        " \n",
        "rowA = len(matrixA)\n",
        "colA = len(matrixA[0])\n",
        "rowB = len(matrixB)\n",
        "colB = len(matrixB[0])\n",
        " \n",
        "result = [[0 for p in range(colB)] for q in range(rowA)]\n",
        "        \n",
        "if (colA != rowB):\n",
        "    print('The two matrices cannot be multiplied')\n",
        "else:\n",
        "    print('\\nThe result is')\n",
        "    for i in range(rowA):\n",
        "        for j in range(colB):\n",
        "            result[i][j] = getCell(matrixA, matrixB, i, j)\n",
        "        print(result[i])"
      ],
      "execution_count": 1,
      "outputs": [
        {
          "output_type": "stream",
          "text": [
            "\n",
            "Enter elements in row 1 of Matrix A (separated by commas)\n",
            "Or -1 to exit: 2,3\n",
            "\n",
            "Enter elements in row 2 of Matrix A (separated by commas)\n",
            "Or -1 to exit: 3,2\n",
            "\n",
            "Enter elements in row 3 of Matrix A (separated by commas)\n",
            "Or -1 to exit: -1\n",
            "\n",
            "Enter elements in row 1 of Matrix B (separated by commas)\n",
            "Or -1 to exit: 4,5\n",
            "\n",
            "Enter elements in row 2 of Matrix B (separated by commas)\n",
            "Or -1 to exit: 6,7\n",
            "\n",
            "Enter elements in row 3 of Matrix B (separated by commas)\n",
            "Or -1 to exit: -1\n",
            "\n",
            "The result is\n",
            "[26, 31]\n",
            "[24, 29]\n"
          ],
          "name": "stdout"
        }
      ]
    }
  ]
}