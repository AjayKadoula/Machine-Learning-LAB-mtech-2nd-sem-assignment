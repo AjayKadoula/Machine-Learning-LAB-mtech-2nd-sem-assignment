{
  "nbformat": 4,
  "nbformat_minor": 0,
  "metadata": {
    "colab": {
      "name": "abc_artificial_bee_colony_algorithm.ipynb",
      "provenance": [],
      "authorship_tag": "ABX9TyMyfGUCb2ML0Lt2wDh/hHsj",
      "include_colab_link": true
    },
    "kernelspec": {
      "name": "python3",
      "display_name": "Python 3"
    },
    "language_info": {
      "name": "python"
    }
  },
  "cells": [
    {
      "cell_type": "markdown",
      "metadata": {
        "id": "view-in-github",
        "colab_type": "text"
      },
      "source": [
        "<a href=\"https://colab.research.google.com/github/AjayKadoula/Mtech_Lab_1/blob/main/abc_artificial_bee_colony_algorithm.ipynb\" target=\"_parent\"><img src=\"https://colab.research.google.com/assets/colab-badge.svg\" alt=\"Open In Colab\"/></a>"
      ]
    },
    {
      "cell_type": "markdown",
      "metadata": {
        "id": "bmA60qzB7eVR"
      },
      "source": [
        "# **Artificial Bee Colony Algorithm (ABC)**\n",
        "\n",
        "In computer science and operations research, the artificial bee colony algorithm (ABC) is an optimization algorithm based on the intelligent foraging behaviour of honey bee swarm, proposed by Karaboga in 2005.\n",
        "\n",
        "In the ABC algorithm, there are three types of bees: employed bees, onlooker bees, and scout bees. The employed bees search food around the food source in their memory; meanwhile they share the information of these food sources to the onlooker bees. The onlooker bees tend to select good food sources from those found by the employed bees. The food source that has higher quality (fitness) will have a large chance to be selected by the onlooker bees than the one of lower quality. The scout bees are translated from a few employed bees, which abandon their food sources and search new ones\n",
        "\n",
        "In the ABC algorithm, the first half of the swarm consists of employed bees, and the second half constitutes the onlooker bees.\n",
        "\n",
        "The number of employed bees or the onlooker bees is equal to the number of solutions in the swarm. The ABC generates a randomly distributed initial population of SN solutions (food sources), where SN denotes the swarm size.\n",
        "\n",
        "Let  Xi={xi,1,xi,2,…,xi,n}  represent the  ith  solution in the swarm, Where  n is the dimension size. Each employed bee  Xi generates a new candidate solution  Vi  in the neighborhood of its present position as equation below:\n",
        "\n",
        "Vik=Xik+Φik×(Xik−Xjk) \n",
        "\n",
        "Where  Xj  is a randomly selected candidate solution ( i≠j ),  k  is a random dimension index selected from the set  {1,2,…,n}  , and  Φik  is a random number within  [−1,1] . Once the new candidate solution  Vi  is generated, a greedy selection is used. If the fitness value of  Vi  is better than that of its parent  Xi , then update  Xi  with  Vi ; otherwise keep  Xi  unchanged. After all employed bees complete the search process; they share the information of their food sources with the onlooker bees through waggle dances. An onlooker bee evaluates the nectar information taken from all employed bees and chooses a food source with a probability related to its nectar amount. This probabilistic selection is really a roulette wheel selection mechanism which is described as equation below:\n",
        "\n",
        "Pi=fiti/∑jfitj \n",
        "\n",
        "Where  fiti  is the fitness value of the  ith solution in the swarm. As seen, the better the solution  i , the higher the probability of the  ith food source selected. If a position cannot be improved over a predefined number (called limit) of cycles, then the food source is abandoned. Assume that the abandoned source is  Xi , and then the scout bee discovers a new food source to be replaced with  ith  as equation below:\n",
        "\n",
        "Xik=lbj+rand(0,1)×(ubj−lbj) \n",
        "\n",
        "Where  rand(0,1)  is a random number within [0,1]  based on a normal distribution and  lb,ub , are lower and upper boundaries of the  ith  dimension, respectively.\n",
        "\n",
        "\n",
        "**Population** - the total number of sampling points of your objective function per iteration\n",
        "\n",
        "**Bee** - a single sampling point\n",
        "\n",
        "**Food** - the value of the objective function at the sampling point.\n",
        "\n",
        "Scout Bees simply randomly probe the search space within bounds, and worker bees perform local optimisation around the current best solutions.\n",
        "\n"
      ]
    },
    {
      "cell_type": "code",
      "metadata": {
        "colab": {
          "base_uri": "https://localhost:8080/",
          "height": 282
        },
        "id": "8VnFMzKO7doM",
        "outputId": "83c888a6-122b-453e-e521-61180b55980a"
      },
      "source": [
        "\n",
        "import random\n",
        "import matplotlib.pyplot as plt\n",
        "\n",
        "\n",
        "# optimize y = x ^ 2 for x in [-500, 500]\n",
        "\n",
        "def find_max_index(my_list):\n",
        "    index = 0\n",
        "    max_value = my_list[index]\n",
        "    for i in range(len(my_list)):\n",
        "        if my_list[i] > max_value:\n",
        "            max_value = my_list[i]\n",
        "            index = i\n",
        "    return index\n",
        "\n",
        "N_w = 50    # number of workers\n",
        "N_s = 10    # number of scouts\n",
        "N_all = N_w + N_s   # number of all the bees\n",
        "max_limit = 10\n",
        "max_opt_iter = 100\n",
        "pos_list = []\n",
        "fitness_list = []\n",
        "limit_list = []\n",
        "opt_fitness_list = []\n",
        "\n",
        "# initialization\n",
        "for i in range(N_all):\n",
        "    pos = 1000*(random.random()-0.5)\n",
        "    pos_list.append(pos)\n",
        "    fitness = -pos * pos\n",
        "    fitness_list.append(fitness)\n",
        "    limit_list.append(0)\n",
        "\n",
        "\n",
        "index = find_max_index(fitness_list)\n",
        "g_best_pos = pos_list[index]\n",
        "g_best_fitness = fitness_list[index]\n",
        "\n",
        "print(g_best_fitness)\n",
        "# start optimization\n",
        "for opt_iter in range(max_opt_iter):\n",
        "    #print(opt_iter)\n",
        "    for i in range(N_w):\n",
        "        # choose a neighbour\n",
        "        neigh_index = random.randint(0, N_all - 1)\n",
        "        while neigh_index == i:\n",
        "            neigh_index = random.randint(0, N_all - 1)\n",
        "\n",
        "        # calculate new pos\n",
        "        temp_pos = pos_list[i] + 2*(random.random()-0.5)*(pos_list[neigh_index] - pos_list[i])\n",
        "\n",
        "        # bound new pos\n",
        "        if temp_pos > 500:\n",
        "            temp_pos = 500\n",
        "        if temp_pos < -500:\n",
        "            temp_pos = -500\n",
        "\n",
        "        # calculate fitness\n",
        "        temp_fitness = -temp_pos * temp_pos\n",
        "\n",
        "        # update self fitness and pos\n",
        "        if temp_fitness > fitness_list[i]:\n",
        "            fitness_list[i] = temp_fitness\n",
        "            pos_list[i] = temp_pos\n",
        "            limit_list[i] = 0\n",
        "        else:\n",
        "            limit_list[i] = limit_list[i] + 1\n",
        "\n",
        "        if limit_list[i] > max_limit:\n",
        "            pos_list[i] = 1000*(random.random()-0.5)\n",
        "\n",
        "    for i in range(N_w, N_w+N_s):\n",
        "        # choose a new pos\n",
        "        pos_list[i] = 1000 * (random.random() - 0.5)\n",
        "\n",
        "        # calculate fitness\n",
        "        fitness_list[i] = -pos_list[i] * pos_list[i]\n",
        "\n",
        "    # update global best pos\n",
        "    index = find_max_index(fitness_list)\n",
        "    if fitness_list[index] > g_best_fitness:\n",
        "        g_best_pos = pos_list[index]\n",
        "        g_best_fitness = fitness_list[index]\n",
        "\n",
        "    opt_fitness_list.append(g_best_fitness)\n",
        "\n",
        "x = range(max_opt_iter)\n",
        "plt.plot(x, opt_fitness_list)\n",
        "plt.show()"
      ],
      "execution_count": 1,
      "outputs": [
        {
          "output_type": "stream",
          "text": [
            "-0.5065308163532873\n"
          ],
          "name": "stdout"
        },
        {
          "output_type": "display_data",
          "data": {
            "image/png": "[encoded data removed]",
            "text/plain": [
              "<Figure size 432x288 with 1 Axes>"
            ]
          },
          "metadata": {
            "tags": [],
            "needs_background": "light"
          }
        }
      ]
    }
  ]
}