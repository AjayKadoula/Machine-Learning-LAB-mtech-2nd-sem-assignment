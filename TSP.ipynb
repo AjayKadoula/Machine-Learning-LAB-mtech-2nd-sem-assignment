{
  "nbformat": 4,
  "nbformat_minor": 0,
  "metadata": {
    "colab": {
      "name": "TSP.ipynb",
      "provenance": [],
      "authorship_tag": "ABX9TyPuTTqUH3O++3fGJGM8eUWF",
      "include_colab_link": true
    },
    "kernelspec": {
      "name": "python3",
      "display_name": "Python 3"
    },
    "language_info": {
      "name": "python"
    }
  },
  "cells": [
    {
      "cell_type": "markdown",
      "metadata": {
        "id": "view-in-github",
        "colab_type": "text"
      },
      "source": [
        "<a href=\"https://colab.research.google.com/github/AjayKadoula/Mtech_Lab_1/blob/main/TSP.ipynb\" target=\"_parent\"><img src=\"https://colab.research.google.com/assets/colab-badge.svg\" alt=\"Open In Colab\"/></a>"
      ]
    },
    {
      "cell_type": "markdown",
      "metadata": {
        "id": "v0e1ZFj6TNgv"
      },
      "source": [
        "# **Traveling Salesman Problem (TSP)**\n",
        "\n",
        "The traveling salesman problem (TSP) is an algorithmic problem tasked with finding the shortest route between a set of points and locations that must be visited. In the problem statement, the points are the cities a salesperson might visit. The salesman‘s goal is to keep both the travel costs and the distance traveled as low as possible.\n",
        "\n",
        "Focused on optimization, TSP is often used in computer science to find the most efficient route for data to travel between various nodes. Applications include identifying network or hardware optimization methods. It was first described by Irish mathematician W.R. Hamilton and British mathematician Thomas Kirkman in the 1800s through the creation of a game that was solvable by finding a Hamilton cycle, which is a non-overlapping path between all nodes.\n",
        "\n",
        "TSP has been studied for decades and several solutions have been theorized. The simplest solution is to try all possibilities, but this is also the most time consuming and expensive method. Many solutions use heuristics, which provides probability outcomes. However, the results are approximate and not always optimal. Other solutions include branch and bound Monte Carlo and Las Vegas algorithms.\n",
        "\n",
        "Rather than focus on finding the most effective route, TSP is often concerned with finding the cheapest solution. In TSPs, the large amount of variables creates a challenge when finding the shortest route, which makes approximate, fast and cheap solutions all the more attractive.\n",
        "\n",
        "Formulate the traveling salesman problem for integer linear programming as follows:\n",
        "\n",
        "1. Generate all possible trips, meaning all distinct pairs of stops.\n",
        "\n",
        "2. Calculate the distance for each trip.\n",
        "\n",
        "3. The cost function to minimize is the sum of the trip distances for each trip in the tour.\n",
        "\n",
        "4. The decision variables are binary and associated with each trip, where each 1 represents a trip that exists on the tour, and each 0 represents a trip that is not on the tour.\n",
        "\n",
        "5. To ensure that the tour includes every stop, including the linear constraint that each stop is on exactly two trips. This means one arrival and one departure from the stop."
      ]
    },
    {
      "cell_type": "code",
      "metadata": {
        "colab": {
          "base_uri": "https://localhost:8080/",
          "height": 195
        },
        "id": "8kyD6muJSgK_",
        "outputId": "0aa9a4cf-6b81-4a3f-ba28-902b94f2e043"
      },
      "source": [
        "import sys\n",
        "import copy\n",
        "\n",
        "matrix = [\n",
        "            [0,          0.268188,   1.0861600,  0.284266,  2.1870300, 2.90507,  1.06443,    0.641625,   0.191624, 3.44142],\n",
        "            [0.1609330,      0,      0.6911510,  0.464564,  1.4049800, 1.96431,  0.168696,   0.654258,   1.41509,  2.98196],\n",
        "            [0.3580770,  0.379707,       0,      1.249930,  0.0821726, 0.408356, 1.74232,    2.37079,    2.95341,  3.90037],\n",
        "            [0.0818823,  0.223001,   1.0921200,     0,      2.1872100, 2.89526,  0.942284,   0.56915,    0.872503, 2.75427],\n",
        "            [0.3714430,  0.397651,   0.0423335,  1.289620,      0,     0.315516, 1.82914,    2.46966,    3.06793,  3.87276],\n",
        "            [0.4166200,  0.46945,    0.1776410,  1.441470,  0.2664210,      0,   2.15881,    2.82956,    3.44337,  3.90929],\n",
        "            [0.1427810,  0.0377101,  0.7089300,  0.438806,  1.4446600, 2.01924,     0,       0.526249,   1.24782,  3.13342],\n",
        "            [0.0799607,  0.135875,   0.8962080,  0.246239,  1.8121500, 2.45884,  0.488912,       0,      0.76215,  3.14592],\n",
        "            [0.0228630,  0.281361,   1.0688800,  0.361399,  2.1552200, 2.86474,  1.10989,    0.729676,       0,    3.6366],\n",
        "            [0.4020280,  0.580519,   1.3821200,  1.117020,  2.6638000, 3.18444,  2.72886,    2.94897,    3.56066,    0],\n",
        "]\n",
        "\n",
        "data = [1, 2, 3, 4, 5, 6, 7, 8, 9, 10]\n",
        "\n",
        "n = len(data)\n",
        "all_sets = []\n",
        "g = {}\n",
        "p = []\n",
        "\n",
        "def main():\n",
        "    for x in range(1, n):\n",
        "        g[x + 1, ()] = matrix[x][0]\n",
        "\n",
        "    get_minimum(1, (2,3,4,5,6,7,8,9,10))\n",
        "\n",
        "    print('\\n\\nSolution to TSP: {1, ', end='')\n",
        "    solution = p.pop()\n",
        "    print(solution[1][0], end=', ')\n",
        "    for x in range(n - 2):\n",
        "        for new_solution in p:\n",
        "            if tuple(solution[1]) == new_solution[0]:\n",
        "                solution = new_solution\n",
        "                print(solution[1][0], end=', ')\n",
        "                break\n",
        "    print('1}')\n",
        "    return\n",
        "\n",
        "\n",
        "def get_minimum(k, a):\n",
        "    if (k, a) in g:\n",
        "        # Already calculated Set g[%d, (%s)]=%d' % (k, str(a), g[k, a]))\n",
        "        return g[k, a]\n",
        "\n",
        "    values = []\n",
        "    all_min = []\n",
        "    for j in a:\n",
        "        set_a = copy.deepcopy(list(a))\n",
        "        set_a.remove(j)\n",
        "        all_min.append([j, tuple(set_a)])\n",
        "        result = get_minimum(j, tuple(set_a))\n",
        "        values.append(matrix[k-1][j-1] + result)\n",
        "\n",
        "    # get minimun value from set as optimal solution for\n",
        "    g[k, a] = min(values)\n",
        "    p.append(((k, a), all_min[values.index(g[k, a])]))\n",
        "\n",
        "    return g[k, a]\n",
        "\n",
        "\n",
        "if __name__ == '__main__':\n",
        "    main()\n",
        "    sys.exit(0)  "
      ],
      "execution_count": 2,
      "outputs": [
        {
          "output_type": "stream",
          "text": [
            "\n",
            "\n",
            "Solution to TSP: {1, 9, 8, 4, 10, 2, 7, 3, 5, 6, 1}\n"
          ],
          "name": "stdout"
        },
        {
          "output_type": "error",
          "ename": "SystemExit",
          "evalue": "ignored",
          "traceback": [
            "An exception has occurred, use %tb to see the full traceback.\n",
            "\u001b[0;31mSystemExit\u001b[0m\u001b[0;31m:\u001b[0m 0\n"
          ]
        },
        {
          "output_type": "stream",
          "text": [
            "/usr/local/lib/python3.7/dist-packages/IPython/core/interactiveshell.py:2890: UserWarning: To exit: use 'exit', 'quit', or Ctrl-D.\n",
            "  warn(\"To exit: use 'exit', 'quit', or Ctrl-D.\", stacklevel=1)\n"
          ],
          "name": "stderr"
        }
      ]
    }
  ]
}