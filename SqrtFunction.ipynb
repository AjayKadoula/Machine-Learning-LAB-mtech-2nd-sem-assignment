{
  "nbformat": 4,
  "nbformat_minor": 0,
  "metadata": {
    "colab": {
      "name": "SqrtFunction.ipynb",
      "provenance": [],
      "authorship_tag": "ABX9TyN7E8Qq9OvZXZyRxEWG4XmZ",
      "include_colab_link": true
    },
    "kernelspec": {
      "name": "python3",
      "display_name": "Python 3"
    },
    "language_info": {
      "name": "python"
    }
  },
  "cells": [
    {
      "cell_type": "markdown",
      "metadata": {
        "id": "view-in-github",
        "colab_type": "text"
      },
      "source": [
        "<a href=\"https://colab.research.google.com/github/AjayKadoula/Mtech_Lab_1/blob/main/SqrtFunction.ipynb\" target=\"_parent\"><img src=\"https://colab.research.google.com/assets/colab-badge.svg\" alt=\"Open In Colab\"/></a>"
      ]
    },
    {
      "cell_type": "markdown",
      "metadata": {
        "id": "bGT1MjHBRRS5"
      },
      "source": [
        "# **Sqrt Function**\n",
        "\n",
        "In numerical analysis, the Newton's Method (or Method of Newton-Raphson), developed by Isaac Newton and Joseph Raphson, aims at estimating the roots of a function. For this purpose, an initial approximation is chosen, after this, the equation of the tangent line of the function at this point and the intersection of it with the axis of the abscissa, in order to find a better approximation for the root, is calculated. By repeating the process, an iterative method is created to find the root of the function.\n",
        "\n",
        "In mathematical notation the method is described in the following formula:\n",
        "\n",
        "![nr.png](data:image/png;base64,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)\n"
      ]
    },
    {
      "cell_type": "code",
      "metadata": {
        "colab": {
          "base_uri": "https://localhost:8080/",
          "height": 396
        },
        "id": "hpRJX-1BRBzW",
        "outputId": "c78bf22d-78d9-47f2-e2bd-71decf868509"
      },
      "source": [
        "import matplotlib.pyplot as plt\n",
        "import numpy as np\n",
        "\n",
        "if __name__ == \"__main__\":\n",
        "\n",
        "    def function(x):\n",
        "\n",
        "        value = x**2-2\n",
        "        return value # The main function\n",
        "\n",
        "    def derivative(x):\n",
        "\n",
        "        return 2*x  # The derivative of the main function\n",
        "\n",
        "def newton(function, derivative, x0, tol, max_iter=100):\n",
        "\n",
        "    x1 = 0\n",
        "\n",
        "    if abs(x0-x1)<= tol and abs((x0-x1)/x0)<= tol:\n",
        "        return x0\n",
        "\n",
        "    print(\"k\\t x0\\t\\t function(x0)\")\n",
        "    k = 1\n",
        "\n",
        "    while k <= max_iter:\n",
        "        x1 = x0 - (function(x0)/derivative(x0))\n",
        "        print(\"x%d\\t%e\\t%e\"%(k,x1,function(x1)))\n",
        "\n",
        "        if abs(x0-x1)<= tol and abs((x0-x1)/x0)<= tol:\n",
        "            plt.plot(x0, function(x0), 'or')\n",
        "            return x1\n",
        "\n",
        "        x0 = x1\n",
        "        k = k + 1\n",
        "        plt.plot(x0, function(x0), 'or')\n",
        "\n",
        "        # Stops the method if it hits the number of maximum iterations\n",
        "        if k > max_iter:\n",
        "            print(\"ERROR: Exceeded max number of iterations\")\n",
        "\n",
        "    return x1  # Returns the value\n",
        "\n",
        "sqrt = newton(function, derivative, 1.7, 0.0000001)\n",
        "print(\"The approximate value of x is: \"+str(sqrt))\n",
        "\n",
        "# Plotting configuration\n",
        "u = np.arange(1.0, 2.0, 0.0001) # Setting up values for x in the plot\n",
        "w = u**2 - 2 # Define the main function again\n",
        "\n",
        "plt.plot(u, w)\n",
        "plt.axhline(y=0.0, color='black', linestyle='-')\n",
        "plt.title('Newton-Raphson Graphics for' + ' y = x^2 - 2')\n",
        "plt.xlabel('X')\n",
        "plt.ylabel('Y')\n",
        "plt.grid(True)\n",
        "plt.legend(['Xn'], loc='upper left')\n",
        "plt.show()"
      ],
      "execution_count": 2,
      "outputs": [
        {
          "output_type": "stream",
          "text": [
            "k\t x0\t\t function(x0)\n",
            "x1\t1.438235e+00\t6.852076e-02\n",
            "x2\t1.414414e+00\t5.674459e-04\n",
            "x3\t1.414214e+00\t4.023794e-08\n",
            "x4\t1.414214e+00\t4.440892e-16\n",
            "The approximate value of x is: 1.4142135623730951\n"
          ],
          "name": "stdout"
        },
        {
          "output_type": "display_data",
          "data": {
            "image/png": "[encoded data removed]",
            "text/plain": [
              "<Figure size 432x288 with 1 Axes>"
            ]
          },
          "metadata": {
            "tags": [],
            "needs_background": "light"
          }
        }
      ]
    }
  ]
}