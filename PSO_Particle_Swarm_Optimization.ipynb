{
  "nbformat": 4,
  "nbformat_minor": 0,
  "metadata": {
    "colab": {
      "name": "PSO_Particle_Swarm_Optimization.ipynb",
      "provenance": [],
      "authorship_tag": "ABX9TyPYfBi4vuXXTJXO1G3lyu0G",
      "include_colab_link": true
    },
    "kernelspec": {
      "name": "python3",
      "display_name": "Python 3"
    },
    "language_info": {
      "name": "python"
    }
  },
  "cells": [
    {
      "cell_type": "markdown",
      "metadata": {
        "id": "view-in-github",
        "colab_type": "text"
      },
      "source": [
        "<a href=\"https://colab.research.google.com/github/AjayKadoula/Mtech_Lab_1/blob/main/PSO_Particle_Swarm_Optimization.ipynb\" target=\"_parent\"><img src=\"https://colab.research.google.com/assets/colab-badge.svg\" alt=\"Open In Colab\"/></a>"
      ]
    },
    {
      "cell_type": "markdown",
      "metadata": {
        "id": "5nS70Irl97wi"
      },
      "source": [
        "# **Particle Swarm Optimization (PSO)**\n",
        "\n",
        "**WHAT IS PSO?**\n",
        "\n",
        "It is a meta heuristic optimization algorithm which can be applied to a large class of optimization problems. It does not have strict assumptions like differentiability of the cost function. It is widely employed on cooperative optimization problems with a global sincle cost function.\n",
        "\n",
        "**HOW DOES PSO CONDUCT OPTIMIZATION?**\n",
        "\n",
        "In order to locate the optimum point of a cost function, PSO uses stochastic perturbations. It generates a number of randomly distributed particles and these particles travel\n",
        "randomly until convergence. They exchange their personal bests with each other while travelling.\n",
        "The particles migrate towards the direction of a combination of their former velocity, personal best and global best.\n",
        "Previous velocity incorporation ensures reliance on previous calculations, heading towards the global best provides convergence to optimum, and\n",
        "personal best component provides diversity of searching. As the optimization goes on, personal bests and global\n",
        "best approach towards each other and convergence occurs.\n",
        "\n",
        "\n",
        "\n",
        "**WHAT ARE THE MAIN STEPS OF THE ALGORITHM?**\n",
        "\n",
        "-Perturb position with the current velocity,\n",
        "\n",
        "-Update new personal bests and global best using the current positions,\n",
        "\n",
        "-Utilize the personal bests and global best to compute the new velocity."
      ]
    },
    {
      "cell_type": "code",
      "metadata": {
        "id": "AYcTw2Uk-zik"
      },
      "source": [
        "from __future__ import division\n",
        "import random\n",
        "import math"
      ],
      "execution_count": 1,
      "outputs": []
    },
    {
      "cell_type": "code",
      "metadata": {
        "id": "mkAtGQbe-4be"
      },
      "source": [
        "#--- COST FUNCTION ------------------------------------------------------------+\n",
        "\n",
        "# function we are attempting to optimize (minimize)\n",
        "def func1(x):\n",
        "    total=0\n",
        "    for i in range(len(x)):\n",
        "        total+=x[i]**2\n",
        "    return total"
      ],
      "execution_count": 2,
      "outputs": []
    },
    {
      "cell_type": "code",
      "metadata": {
        "colab": {
          "base_uri": "https://localhost:8080/"
        },
        "id": "_Y94B4HL9yOZ",
        "outputId": "2c23a35b-b10f-4673-fa20-e5178b587d43"
      },
      "source": [
        "\n",
        "\n",
        "\n",
        "\n",
        "\n",
        "\n",
        "#--- MAIN ---------------------------------------------------------------------+\n",
        "\n",
        "class Particle:\n",
        "    def __init__(self,x0):\n",
        "        self.position_i=[]          # particle position\n",
        "        self.velocity_i=[]          # particle velocity\n",
        "        self.pos_best_i=[]          # best position individual\n",
        "        self.err_best_i=-1          # best error individual\n",
        "        self.err_i=-1               # error individual\n",
        "\n",
        "        for i in range(0,num_dimensions):\n",
        "            self.velocity_i.append(random.uniform(-1,1))\n",
        "            self.position_i.append(x0[i])\n",
        "\n",
        "    # evaluate current fitness\n",
        "    def evaluate(self,costFunc):\n",
        "        self.err_i=costFunc(self.position_i)\n",
        "\n",
        "        # check to see if the current position is an individual best\n",
        "        if self.err_i<self.err_best_i or self.err_best_i==-1:\n",
        "            self.pos_best_i=self.position_i.copy()\n",
        "            self.err_best_i=self.err_i\n",
        "                    \n",
        "    # update new particle velocity\n",
        "    def update_velocity(self,pos_best_g):\n",
        "        w=0.5       # constant inertia weight (how much to weigh the previous velocity)\n",
        "        c1=1        # cognative constant\n",
        "        c2=2        # social constant\n",
        "        \n",
        "        for i in range(0,num_dimensions):\n",
        "            r1=random.random()\n",
        "            r2=random.random()\n",
        "            \n",
        "            vel_cognitive=c1*r1*(self.pos_best_i[i]-self.position_i[i])\n",
        "            vel_social=c2*r2*(pos_best_g[i]-self.position_i[i])\n",
        "            self.velocity_i[i]=w*self.velocity_i[i]+vel_cognitive+vel_social\n",
        "\n",
        "    # update the particle position based off new velocity updates\n",
        "    def update_position(self,bounds):\n",
        "        for i in range(0,num_dimensions):\n",
        "            self.position_i[i]=self.position_i[i]+self.velocity_i[i]\n",
        "            \n",
        "            # adjust maximum position if necessary\n",
        "            if self.position_i[i]>bounds[i][1]:\n",
        "                self.position_i[i]=bounds[i][1]\n",
        "\n",
        "            # adjust minimum position if neseccary\n",
        "            if self.position_i[i]<bounds[i][0]:\n",
        "                self.position_i[i]=bounds[i][0]\n",
        "        \n",
        "class PSO():\n",
        "    def __init__(self, costFunc, x0, bounds, num_particles, maxiter, verbose=False):\n",
        "        global num_dimensions\n",
        "\n",
        "        num_dimensions=len(x0)\n",
        "        err_best_g=-1                   # best error for group\n",
        "        pos_best_g=[]                   # best position for group\n",
        "\n",
        "        # establish the swarm\n",
        "        swarm=[]\n",
        "        for i in range(0,num_particles):\n",
        "            swarm.append(Particle(x0))\n",
        "\n",
        "        # begin optimization loop\n",
        "        i=0\n",
        "        while i<maxiter:\n",
        "            if verbose: print(f'iter: {i:>4d}, best solution: {err_best_g:10.6f}')\n",
        "            # cycle through particles in swarm and evaluate fitness\n",
        "            for j in range(0,num_particles):\n",
        "                swarm[j].evaluate(costFunc)\n",
        "\n",
        "                # determine if current particle is the best (globally)\n",
        "                if swarm[j].err_i<err_best_g or err_best_g==-1:\n",
        "                    pos_best_g=list(swarm[j].position_i)\n",
        "                    err_best_g=float(swarm[j].err_i)\n",
        "            \n",
        "            # cycle through swarm and update velocities and position\n",
        "            for j in range(0,num_particles):\n",
        "                swarm[j].update_velocity(pos_best_g)\n",
        "                swarm[j].update_position(bounds)\n",
        "            i+=1\n",
        "\n",
        "        # print final results\n",
        "        print('\\nFINAL SOLUTION:')\n",
        "        print(f'   > {pos_best_g}')\n",
        "        print(f'   > {err_best_g}\\n')\n",
        "\n",
        "if __name__ == \"__PSO__\":\n",
        "    main()\n",
        "\n",
        "#--- RUN ----------------------------------------------------------------------+\n",
        "\n",
        "initial=[5,5]               # initial starting location [x1,x2...]\n",
        "bounds=[(-10,10),(-10,10)]  # input bounds [(x1_min,x1_max),(x2_min,x2_max)...]\n",
        "PSO(func1, initial, bounds, num_particles=15, maxiter=30, verbose=True)\n",
        "\n",
        "#--- END ----------------------------------------------------------------------+\n"
      ],
      "execution_count": 3,
      "outputs": [
        {
          "output_type": "stream",
          "text": [
            "iter:    0, best solution:  -1.000000\n",
            "iter:    1, best solution:  50.000000\n",
            "iter:    2, best solution:  43.549507\n",
            "iter:    3, best solution:  39.420360\n",
            "iter:    4, best solution:  32.896398\n",
            "iter:    5, best solution:  18.834072\n",
            "iter:    6, best solution:   9.060343\n",
            "iter:    7, best solution:   3.479912\n",
            "iter:    8, best solution:   1.578797\n",
            "iter:    9, best solution:   1.000832\n",
            "iter:   10, best solution:   0.027607\n",
            "iter:   11, best solution:   0.007545\n",
            "iter:   12, best solution:   0.007545\n",
            "iter:   13, best solution:   0.004900\n",
            "iter:   14, best solution:   0.004900\n",
            "iter:   15, best solution:   0.004691\n",
            "iter:   16, best solution:   0.001671\n",
            "iter:   17, best solution:   0.001671\n",
            "iter:   18, best solution:   0.000257\n",
            "iter:   19, best solution:   0.000172\n",
            "iter:   20, best solution:   0.000048\n",
            "iter:   21, best solution:   0.000048\n",
            "iter:   22, best solution:   0.000048\n",
            "iter:   23, best solution:   0.000048\n",
            "iter:   24, best solution:   0.000041\n",
            "iter:   25, best solution:   0.000041\n",
            "iter:   26, best solution:   0.000005\n",
            "iter:   27, best solution:   0.000003\n",
            "iter:   28, best solution:   0.000003\n",
            "iter:   29, best solution:   0.000003\n",
            "\n",
            "FINAL SOLUTION:\n",
            "   > [-0.0015406425704066321, 0.0006218912804557665]\n",
            "   > 2.760328294456067e-06\n",
            "\n"
          ],
          "name": "stdout"
        },
        {
          "output_type": "execute_result",
          "data": {
            "text/plain": [
              "<__main__.PSO at 0x7f429d117f10>"
            ]
          },
          "metadata": {
            "tags": []
          },
          "execution_count": 3
        }
      ]
    }
  ]
}