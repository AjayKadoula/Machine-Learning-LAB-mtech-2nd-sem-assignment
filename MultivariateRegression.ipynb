{
  "nbformat": 4,
  "nbformat_minor": 0,
  "metadata": {
    "colab": {
      "name": "MultivariateRegression.ipynb",
      "provenance": [],
      "toc_visible": true,
      "authorship_tag": "ABX9TyO9dPBnsGTMcP0ATaKD1TIa",
      "include_colab_link": true
    },
    "kernelspec": {
      "name": "python3",
      "display_name": "Python 3"
    }
  },
  "cells": [
    {
      "cell_type": "markdown",
      "metadata": {
        "id": "view-in-github",
        "colab_type": "text"
      },
      "source": [
        "<a href=\"https://colab.research.google.com/github/AjayKadoula/Mtech_Lab_1/blob/main/MultivariateRegression.ipynb\" target=\"_parent\"><img src=\"https://colab.research.google.com/assets/colab-badge.svg\" alt=\"Open In Colab\"/></a>"
      ]
    },
    {
      "cell_type": "markdown",
      "metadata": {
        "id": "9APKtM19FZ16"
      },
      "source": [
        "# **Multivariate Regression**\r\n",
        "\r\n",
        "In an **univariate regression** has an independent variable x and a dependent variable y. So you can plot a curve: x vs y.\r\n",
        "\r\n",
        "In the case of a **multivariate regression**, there is single dependent variable y as in univariate regression, but the independent variable x has more than 1 dimension.\r\n",
        "\r\n",
        "As the name implies, multivariate regression is a technique that estimates a single regression model with more than one outcome variable. When there is more than one predictor variable in a multivariate regression model, the model is a multivariate multiple regression. So a multivariate regression model refers to regression models with at least two dependent/outcome variables which can be predicted by one or more independent variables.\r\n",
        "\r\n",
        "\r\n",
        "\r\n",
        "**For example**\r\n",
        "\r\n",
        " you could be predicting the price of a housing plot based on features like size of the house, distance to the nearest city etc. Here y is the price, which is a single variable. But x now contains multiple variables like size of the plot, distance to the nearest city etc.\r\n",
        "\r\n",
        "\r\n",
        "\r\n"
      ]
    },
    {
      "cell_type": "code",
      "metadata": {
        "id": "oUhsp0lTFWyv"
      },
      "source": [
        "import numpy as np\r\n",
        "import pandas as pd"
      ],
      "execution_count": 21,
      "outputs": []
    },
    {
      "cell_type": "code",
      "metadata": {
        "colab": {
          "base_uri": "https://localhost:8080/",
          "height": 195
        },
        "id": "kvohb8ilLYEM",
        "outputId": "0c94ada1-93ea-4b1e-eee2-c21a1fdb17e1"
      },
      "source": [
        "data = pd.read_csv('dataset.txt',header = None)\r\n",
        "\r\n",
        "x = data.iloc[:,0:2]\r\n",
        "\r\n",
        "y = data.iloc[:,2]\r\n",
        "\r\n",
        "m = len(y)\r\n",
        "\r\n",
        "data.head(5)"
      ],
      "execution_count": 22,
      "outputs": [
        {
          "output_type": "execute_result",
          "data": {
            "text/html": [
              "<div>\n",
              "<style scoped>\n",
              "    .dataframe tbody tr th:only-of-type {\n",
              "        vertical-align: middle;\n",
              "    }\n",
              "\n",
              "    .dataframe tbody tr th {\n",
              "        vertical-align: top;\n",
              "    }\n",
              "\n",
              "    .dataframe thead th {\n",
              "        text-align: right;\n",
              "    }\n",
              "</style>\n",
              "<table border=\"1\" class=\"dataframe\">\n",
              "  <thead>\n",
              "    <tr style=\"text-align: right;\">\n",
              "      <th></th>\n",
              "      <th>0</th>\n",
              "      <th>1</th>\n",
              "      <th>2</th>\n",
              "    </tr>\n",
              "  </thead>\n",
              "  <tbody>\n",
              "    <tr>\n",
              "      <th>0</th>\n",
              "      <td>2104</td>\n",
              "      <td>3</td>\n",
              "      <td>399900</td>\n",
              "    </tr>\n",
              "    <tr>\n",
              "      <th>1</th>\n",
              "      <td>1600</td>\n",
              "      <td>3</td>\n",
              "      <td>329900</td>\n",
              "    </tr>\n",
              "    <tr>\n",
              "      <th>2</th>\n",
              "      <td>2400</td>\n",
              "      <td>3</td>\n",
              "      <td>369000</td>\n",
              "    </tr>\n",
              "    <tr>\n",
              "      <th>3</th>\n",
              "      <td>1416</td>\n",
              "      <td>2</td>\n",
              "      <td>232000</td>\n",
              "    </tr>\n",
              "    <tr>\n",
              "      <th>4</th>\n",
              "      <td>3000</td>\n",
              "      <td>4</td>\n",
              "      <td>539900</td>\n",
              "    </tr>\n",
              "  </tbody>\n",
              "</table>\n",
              "</div>"
            ],
            "text/plain": [
              "      0  1       2\n",
              "0  2104  3  399900\n",
              "1  1600  3  329900\n",
              "2  2400  3  369000\n",
              "3  1416  2  232000\n",
              "4  3000  4  539900"
            ]
          },
          "metadata": {
            "tags": []
          },
          "execution_count": 22
        }
      ]
    },
    {
      "cell_type": "code",
      "metadata": {
        "id": "Awb1zWSSMPPL"
      },
      "source": [
        "x = (x-np.mean(x))/np.std(x)"
      ],
      "execution_count": 23,
      "outputs": []
    },
    {
      "cell_type": "code",
      "metadata": {
        "colab": {
          "base_uri": "https://localhost:8080/"
        },
        "id": "q23cOkPXNiEW",
        "outputId": "52ba364e-1e63-4132-9010-edeb61fa7dec"
      },
      "source": [
        "y = y[0:,np.newaxis]\r\n",
        "ones = np.ones((m,1))\r\n",
        "x = np.hstack((ones,x))\r\n",
        "alpha = 0.01\r\n",
        "iterations = 400\r\n",
        "theta = np.zeros((3,1))"
      ],
      "execution_count": 24,
      "outputs": [
        {
          "output_type": "stream",
          "text": [
            "/usr/local/lib/python3.7/dist-packages/ipykernel_launcher.py:1: FutureWarning: Support for multi-dimensional indexing (e.g. `obj[:, None]`) is deprecated and will be removed in a future version.  Convert to a numpy array before indexing instead.\n",
            "  \"\"\"Entry point for launching an IPython kernel.\n"
          ],
          "name": "stderr"
        }
      ]
    },
    {
      "cell_type": "code",
      "metadata": {
        "colab": {
          "base_uri": "https://localhost:8080/"
        },
        "id": "VpwZ3yqCNmOt",
        "outputId": "f4ba3460-f16c-491f-f66b-572f3358c6c8"
      },
      "source": [
        "def computeCostMulti(x,y,theta):\r\n",
        "    temp = np.dot(x,theta) - y\r\n",
        "    return (np.sum(np.power(temp,2)))/(2*m)\r\n",
        "J = computeCostMulti(x,y,theta)\r\n",
        "print(J)"
      ],
      "execution_count": 25,
      "outputs": [
        {
          "output_type": "stream",
          "text": [
            "65591548106.45744\n"
          ],
          "name": "stdout"
        }
      ]
    },
    {
      "cell_type": "code",
      "metadata": {
        "colab": {
          "base_uri": "https://localhost:8080/"
        },
        "id": "_hj9yLVnN-oX",
        "outputId": "26242e71-e7c7-46bc-a4db-32c1c8370591"
      },
      "source": [
        "def gradientDescentMulti(x,y,theta,alpha,iterations):\r\n",
        "    for _ in range(iterations):\r\n",
        "        temp = np.dot(x,theta)-y\r\n",
        "        temp = np.dot(x.T,temp)\r\n",
        "        theta = theta - (alpha/m)*temp\r\n",
        "    return theta\r\n",
        "theta = gradientDescentMulti(x,y,theta,alpha,iterations)\r\n",
        "print(theta)"
      ],
      "execution_count": 26,
      "outputs": [
        {
          "output_type": "stream",
          "text": [
            "[[334302.06399328]\n",
            " [ 99411.44947359]\n",
            " [  3267.01285407]]\n"
          ],
          "name": "stdout"
        }
      ]
    },
    {
      "cell_type": "code",
      "metadata": {
        "colab": {
          "base_uri": "https://localhost:8080/"
        },
        "id": "3q76gwY6OCin",
        "outputId": "0b56d382-6186-4f5a-cad3-fb3cd38bc311"
      },
      "source": [
        "J = computeCostMulti(x,y,theta)\r\n",
        "print(J)"
      ],
      "execution_count": 27,
      "outputs": [
        {
          "output_type": "stream",
          "text": [
            "2105448288.6292474\n"
          ],
          "name": "stdout"
        }
      ]
    }
  ]
}