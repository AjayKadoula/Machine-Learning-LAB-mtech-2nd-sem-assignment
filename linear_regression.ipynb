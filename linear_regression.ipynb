{
  "nbformat": 4,
  "nbformat_minor": 0,
  "metadata": {
    "colab": {
      "name": "linear_regression.ipynb",
      "provenance": [],
      "authorship_tag": "ABX9TyNaZdToYxAxpJ5ZzH6yGJvE",
      "include_colab_link": true
    },
    "kernelspec": {
      "name": "python3",
      "display_name": "Python 3"
    }
  },
  "cells": [
    {
      "cell_type": "markdown",
      "metadata": {
        "id": "view-in-github",
        "colab_type": "text"
      },
      "source": [
        "<a href=\"https://colab.research.google.com/github/AjayKadoula/Mtech_Lab_1/blob/main/linear_regression.ipynb\" target=\"_parent\"><img src=\"https://colab.research.google.com/assets/colab-badge.svg\" alt=\"Open In Colab\"/></a>"
      ]
    },
    {
      "cell_type": "markdown",
      "metadata": {
        "id": "ghpIse_IiaiU"
      },
      "source": [
        "# **Linear Regression**\r\n",
        "Linear regression is perhaps one of the most well known and well understood algorithms in statistics and machine learning. It is a statistical approach for modelling relationship between a dependent variable with a given set of independent variables.\r\n",
        "\r\n",
        "**Simple Linear Regression :** Simple linear regression is an approach for predicting a response using a single feature.\r\n",
        "\r\n",
        "**Multiple linear regression :** Multiple linear regression attempts to model the relationship between two or more features and a response by fitting a linear equation to observed data.\r\n",
        "\r\n"
      ]
    },
    {
      "cell_type": "code",
      "metadata": {
        "colab": {
          "base_uri": "https://localhost:8080/",
          "height": 330
        },
        "id": "5F7oEdB0jlMq",
        "outputId": "b3d8e2d2-3fcd-4974-bf88-e0bf4f6d3859"
      },
      "source": [
        "import numpy as np \r\n",
        "import matplotlib.pyplot as plt \r\n",
        "\r\n",
        "def estimate_coef(x, y): \r\n",
        "\t\r\n",
        "\tn = np.size(x) \r\n",
        "\r\n",
        "\r\n",
        "\tm_x, m_y = np.mean(x), np.mean(y) \r\n",
        "\r\n",
        "\t\r\n",
        "\tSS_xy = np.sum(y*x) - n*m_y*m_x \r\n",
        "\tSS_xx = np.sum(x*x) - n*m_x*m_x \r\n",
        "\r\n",
        "\t\r\n",
        "\tb_1 = SS_xy / SS_xx \r\n",
        "\tb_0 = m_y - b_1*m_x \r\n",
        "\r\n",
        "\treturn(b_0, b_1) \r\n",
        "\r\n",
        "def plot_regression_line(x, y, b): \r\n",
        "\t \r\n",
        "\tplt.scatter(x, y, color = \"m\", \r\n",
        "\t\t\tmarker = \"o\", s = 30) \r\n",
        "\r\n",
        "\t\r\n",
        "\ty_pred = b[0] + b[1]*x \r\n",
        "\r\n",
        "\r\n",
        "\tplt.plot(x, y_pred, color = \"g\") \r\n",
        "\r\n",
        " \r\n",
        "\tplt.xlabel('x') \r\n",
        "\tplt.ylabel('y') \r\n",
        "\r\n",
        " \r\n",
        "\tplt.show() \r\n",
        "\r\n",
        "def main(): \r\n",
        "\r\n",
        "\tx = np.array([10, 11, 12, 13, 14, 15, 16, 17, 18, 19]) \r\n",
        "\ty = np.array([22, 24, 26, 28, 20, 28, 28, 34, 30,32]) \r\n",
        "\r\n",
        "\r\n",
        "\tb = estimate_coef(x, y) \r\n",
        "\tprint(\"Estimated coefficients:\\n b_0 = {} \\\r\n",
        "  \\n b_1 = {}\".format(b[0], b[1])) \r\n",
        "  \r\n",
        "\r\n",
        "\tplot_regression_line(x, y, b) \r\n",
        "\r\n",
        "if __name__ == \"__main__\": \r\n",
        "\tmain() \r\n"
      ],
      "execution_count": 10,
      "outputs": [
        {
          "output_type": "stream",
          "text": [
            "Estimated coefficients:\n",
            " b_0 = 11.381818181818183   \n",
            " b_1 = 1.0909090909090908\n"
          ],
          "name": "stdout"
        },
        {
          "output_type": "display_data",
          "data": {
            "image/png": "[encoded data removed]",
            "text/plain": [
              "<Figure size 432x288 with 1 Axes>"
            ]
          },
          "metadata": {
            "tags": [],
            "needs_background": "light"
          }
        }
      ]
    }
  ]
}