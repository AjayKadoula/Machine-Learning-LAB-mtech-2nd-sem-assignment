{
  "nbformat": 4,
  "nbformat_minor": 0,
  "metadata": {
    "colab": {
      "name": "logistic_regression.ipynb",
      "provenance": [],
      "toc_visible": true,
      "authorship_tag": "ABX9TyM8QzUl2bXqivrtSUXTpaiX",
      "include_colab_link": true
    },
    "kernelspec": {
      "name": "python3",
      "display_name": "Python 3"
    }
  },
  "cells": [
    {
      "cell_type": "markdown",
      "metadata": {
        "id": "view-in-github",
        "colab_type": "text"
      },
      "source": [
        "<a href=\"https://colab.research.google.com/github/AjayKadoula/Mtech_Lab_1/blob/main/logistic_regression.ipynb\" target=\"_parent\"><img src=\"https://colab.research.google.com/assets/colab-badge.svg\" alt=\"Open In Colab\"/></a>"
      ]
    },
    {
      "cell_type": "markdown",
      "metadata": {
        "id": "84VgdYvdmoai"
      },
      "source": [
        "# **Logistic Regression**\r\n",
        "Logistic Regression is a Machine Learning classification algorithm that is used to predict the probability of a categorical dependent variable. It is a supervised learning algorithm that is used when the target variable is categorical. Hypothetical function h(x) of linear regression predicts unbounded values. But in the case of Logistic Regression, where the target variable is categorical we have to strict the range of predicted values. Consider a classification problem, where we need to classify whether an email is a spam or not. So, the hypothetical function of linear regression could not be used here to predict as it predicts unbound values, but we have to predict either 0 or 1\r\n",
        "\r\n",
        "**Mathematical Intuition:**\r\n",
        "\r\n",
        "J = - ylog( h(x) ) - ( 1 - y )log( 1 - h(x) )\r\n",
        "\r\n",
        "\r\n",
        "here, y is the real target value\r\n",
        "\r\n",
        "\r\n",
        "h( x ) = sigmoid( wx + b )\r\n",
        "\r\n",
        "\r\n",
        "For y = 0,\r\n",
        "\r\n",
        "J = - log( 1 - h(x) )\r\n",
        "\r\n",
        "and y = 1,\r\n",
        "\r\n",
        "J = - log( h(x) )"
      ]
    },
    {
      "cell_type": "code",
      "metadata": {
        "colab": {
          "base_uri": "https://localhost:8080/"
        },
        "id": "cuyMWmHZnsl2",
        "outputId": "53747b24-9ca5-412d-8d9e-c8f956f1c31d"
      },
      "source": [
        "import numpy as np \r\n",
        "import pandas as pd \r\n",
        "from sklearn.model_selection import train_test_split \r\n",
        "import warnings \r\n",
        "warnings.filterwarnings( \"ignore\" ) \r\n",
        "\r\n",
        "from sklearn.linear_model import LogisticRegression \r\n",
        "\r\n",
        "class LogitRegression() : \r\n",
        "\tdef __init__( self, learning_rate, iterations ) :\t\t \r\n",
        "\t\tself.learning_rate = learning_rate\t\t \r\n",
        "\t\tself.iterations = iterations \r\n",
        "\t\t\r\n",
        " \r\n",
        "\tdef fit( self, X, Y ) :\t\t \r\n",
        "\t \r\n",
        "\t\tself.m, self.n = X.shape\t\t \r\n",
        "\t \r\n",
        "\t\tself.W = np.zeros( self.n )\t\t \r\n",
        "\t\tself.b = 0\t\t\r\n",
        "\t\tself.X = X\t\t \r\n",
        "\t\tself.Y = Y \r\n",
        "\t\t\r\n",
        "\r\n",
        "\t\t\t\t\r\n",
        "\t\tfor i in range( self.iterations ) :\t\t\t \r\n",
        "\t\t\tself.update_weights()\t\t\t \r\n",
        "\t\treturn self\r\n",
        "\t\r\n",
        "\t\r\n",
        "\tdef update_weights( self ) :\t\t \r\n",
        "\t\tA = 1 / ( 1 + np.exp( - ( self.X.dot( self.W ) + self.b ) ) ) \r\n",
        "\t\t\r\n",
        "\t\t \r\n",
        "\t\ttmp = ( A - self.Y.T )\t\t \r\n",
        "\t\ttmp = np.reshape( tmp, self.m )\t\t \r\n",
        "\t\tdW = np.dot( self.X.T, tmp ) / self.m\t\t \r\n",
        "\t\tdb = np.sum( tmp ) / self.m \r\n",
        "\t\t\r\n",
        "\t\t\t \r\n",
        "\t\tself.W = self.W - self.learning_rate * dW\t \r\n",
        "\t\tself.b = self.b - self.learning_rate * db \r\n",
        "\t\t\r\n",
        "\t\treturn self\r\n",
        "\t\r\n",
        "\t \r\n",
        "\t\r\n",
        "\tdef predict( self, X ) :\t \r\n",
        "\t\tZ = 1 / ( 1 + np.exp( - ( X.dot( self.W ) + self.b ) ) )\t\t \r\n",
        "\t\tY = np.where( Z > 0.5, 1, 0 )\t\t \r\n",
        "\t\treturn Y \r\n",
        "\r\n",
        "\r\n",
        "\r\n",
        "\r\n",
        "def main() : \r\n",
        "\t\r\n",
        "\r\n",
        "\tdf = pd.read_csv( \"diabetes.csv\" ) \r\n",
        "\tX = df.iloc[:,:-1].values \r\n",
        "\tY = df.iloc[:,-1:].values \r\n",
        "\t\r\n",
        "\r\n",
        "\tX_train, X_test, Y_train, Y_test = train_test_split( \r\n",
        "\tX, Y, test_size = 1/3, random_state = 0 ) \r\n",
        "\t\r\n",
        "\t \r\n",
        "\tmodel = LogitRegression( learning_rate = 0.01, iterations = 1000 ) \r\n",
        "\t\r\n",
        "\tmodel.fit( X_train, Y_train )\t \r\n",
        "\tmodel1 = LogisticRegression()\t \r\n",
        "\tmodel1.fit( X_train, Y_train) \r\n",
        "\t\r\n",
        "\t# Prediction on test set \r\n",
        "\tY_pred = model.predict( X_test )\t \r\n",
        "\tY_pred1 = model1.predict( X_test ) \r\n",
        "\t\r\n",
        "\t# measure performance\t \r\n",
        "\tcorrectly_classified = 0\t\r\n",
        "\tcorrectly_classified1 = 0\r\n",
        "\t\r\n",
        "\t# counter\t \r\n",
        "\tcount = 0\t\r\n",
        "\tfor count in range( np.size( Y_pred ) ) : \r\n",
        "\t\t\r\n",
        "\t\tif Y_test[count] == Y_pred[count] :\t\t\t \r\n",
        "\t\t\tcorrectly_classified = correctly_classified + 1\r\n",
        "\t\t\r\n",
        "\t\tif Y_test[count] == Y_pred1[count] :\t\t\t \r\n",
        "\t\t\tcorrectly_classified1 = correctly_classified1 + 1\r\n",
        "\t\t\t\r\n",
        "\t\tcount = count + 1\r\n",
        "\t\t\r\n",
        "\tprint( \"Accuracy on test set by our model\t : \", ( \r\n",
        "\tcorrectly_classified / count ) * 100 ) \r\n",
        "\tprint( \"Accuracy on test set by sklearn model : \", ( \r\n",
        "\tcorrectly_classified1 / count ) * 100 ) \r\n",
        "\r\n",
        "\r\n",
        "if __name__ == \"__main__\" :\t \r\n",
        "\tmain()\r\n"
      ],
      "execution_count": 4,
      "outputs": [
        {
          "output_type": "stream",
          "text": [
            "Accuracy on test set by our model\t :  58.59375\n",
            "Accuracy on test set by sklearn model :  77.734375\n"
          ],
          "name": "stdout"
        }
      ]
    }
  ]
}